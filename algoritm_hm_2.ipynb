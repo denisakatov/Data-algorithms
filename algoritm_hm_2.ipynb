{
  "nbformat": 4,
  "nbformat_minor": 0,
  "metadata": {
    "kernelspec": {
      "display_name": "Python 3",
      "language": "python",
      "name": "python3"
    },
    "language_info": {
      "codemirror_mode": {
        "name": "ipython",
        "version": 3
      },
      "file_extension": ".py",
      "mimetype": "text/x-python",
      "name": "python",
      "nbconvert_exporter": "python",
      "pygments_lexer": "ipython3",
      "version": "3.7.3"
    },
    "colab": {
      "name": "Untitled.ipynb",
      "provenance": []
    }
  },
  "cells": [
    {
      "cell_type": "markdown",
      "metadata": {
        "id": "fLCXhcnL_DlD",
        "colab_type": "text"
      },
      "source": [
        "**Сгенерировать датасет при помощи sklearn.datasets.make_regression и обучить линейную модель при помощи градиентного и стохастического градиентного спуска. Нанести среднеквадратичную ошибку для обоих методов на один график, сделать выводы о разнице скорости сходимости каждого из методов.**"
      ]
    },
    {
      "cell_type": "code",
      "metadata": {
        "id": "YmQpaV9F_DlE",
        "colab_type": "code",
        "colab": {}
      },
      "source": [
        "import numpy as np\n",
        "from sklearn import datasets\n",
        "import matplotlib.pyplot as plt\n",
        "\n",
        "%matplotlib inline"
      ],
      "execution_count": 284,
      "outputs": []
    },
    {
      "cell_type": "code",
      "metadata": {
        "id": "fddymMtk_DlI",
        "colab_type": "code",
        "colab": {}
      },
      "source": [
        "# сгенерируем набор данных\n",
        "X, y, coef = datasets.make_regression(n_samples=1000, n_features = 30, n_informative = 2, n_targets = 1, \n",
        "                                              noise = 5, coef = True, random_state = 2)"
      ],
      "execution_count": 285,
      "outputs": []
    },
    {
      "cell_type": "code",
      "metadata": {
        "id": "l-agFm_B_DlK",
        "colab_type": "code",
        "colab": {
          "base_uri": "https://localhost:8080/",
          "height": 34
        },
        "outputId": "957d79a5-0786-49d4-caaa-b4cb737ac35e"
      },
      "source": [
        "# Добавим единицы:\n",
        "\n",
        "ones = np.ones((X.shape[0], 1))\n",
        "X = np.hstack((ones, X))\n",
        "X.shape"
      ],
      "execution_count": 286,
      "outputs": [
        {
          "output_type": "execute_result",
          "data": {
            "text/plain": [
              "(1000, 31)"
            ]
          },
          "metadata": {
            "tags": []
          },
          "execution_count": 286
        }
      ]
    },
    {
      "cell_type": "code",
      "metadata": {
        "id": "G8sbgY-i_DlP",
        "colab_type": "code",
        "colab": {
          "base_uri": "https://localhost:8080/",
          "height": 34
        },
        "outputId": "0bad868a-8863-49b2-baf9-18a9ac329d19"
      },
      "source": [
        "# Транспонируем матрицу, чтобы не менять функции.\n",
        "X_tr = X.T\n",
        "X_tr.shape"
      ],
      "execution_count": 287,
      "outputs": [
        {
          "output_type": "execute_result",
          "data": {
            "text/plain": [
              "(31, 1000)"
            ]
          },
          "metadata": {
            "tags": []
          },
          "execution_count": 287
        }
      ]
    },
    {
      "cell_type": "code",
      "metadata": {
        "id": "p-iOtBOn_DlS",
        "colab_type": "code",
        "colab": {}
      },
      "source": [
        "def calc_std_feat(x):\n",
        "    res = (x - x.mean()) / x.std()\n",
        "    return res"
      ],
      "execution_count": 288,
      "outputs": []
    },
    {
      "cell_type": "code",
      "metadata": {
        "id": "IEWdzqjk_DlU",
        "colab_type": "code",
        "colab": {}
      },
      "source": [
        "X1_mean = X_tr[1].mean()\n",
        "X1_std = X_tr[1].std()\n",
        "X_st = X_tr.copy().astype(np.float64)\n",
        "X_st[1] = (X_tr[1] - X1_mean) / X1_std\n",
        "np.mean(X_st[1]), np.std(X_st[1])\n",
        "X_st[2] = calc_std_feat(X_tr[2])\n",
        "X_st[3] = calc_std_feat(X_tr[3])\n"
      ],
      "execution_count": 289,
      "outputs": []
    },
    {
      "cell_type": "code",
      "metadata": {
        "id": "JROVMjtZ_DlW",
        "colab_type": "code",
        "colab": {}
      },
      "source": [
        "# Функция среднеквадратичной ошибки\n",
        "def calc_mse(y, y_pred):\n",
        "    err = np.mean((y - y_pred)**2)\n",
        "    return err"
      ],
      "execution_count": 290,
      "outputs": []
    },
    {
      "cell_type": "code",
      "metadata": {
        "id": "d4Wwj-do_DlZ",
        "colab_type": "code",
        "colab": {}
      },
      "source": [
        "# Функция градиентного спуска с выводом на график\n",
        "def eval_model(X, y, iterations, alpha=1e-4):\n",
        "    i_eval=[]\n",
        "    err_eval=[]\n",
        "    W = np.random.randn(X.shape[0])\n",
        "    n = X.shape[1]\n",
        "    for i in range(1, iterations+1):\n",
        "        y_pred = np.dot(W, X)\n",
        "        err = calc_mse(y, y_pred)\n",
        "        W -= (alpha * (1/n * 2 * np.dot((y_pred - y), X.T)))\n",
        "        if i % (iterations / 800) == 0:\n",
        "#             print(i, W, err)\n",
        "            i_eval.append(i)\n",
        "            err_eval.append(err)\n",
        "    plt.axis(ymax=50, xmax=400)\n",
        "    plt.grid(True) \n",
        "    return plt.scatter(i_eval, err_eval, label='eval_model')"
      ],
      "execution_count": 291,
      "outputs": []
    },
    {
      "cell_type": "code",
      "metadata": {
        "id": "Zn-H0nsf_Dlb",
        "colab_type": "code",
        "colab": {}
      },
      "source": [
        "# Функция стохастического градиентного спуска\n",
        "\n",
        "def eval_sgd_model(X, y, iterations, qty_in_batch=1, alpha=1e-4):\n",
        "    i_sgd = []\n",
        "    err_sgd = []\n",
        "    W = np.random.randn(X.shape[0])\n",
        "    n = X.shape[1]\n",
        "    n_batch = n // qty_in_batch\n",
        "    if n % qty_in_batch != 0:\n",
        "        n_batch += 1\n",
        "    for i in range(1, iterations+1):\n",
        "        for b in range(n_batch):\n",
        "            start_ = qty_in_batch*b\n",
        "            end_ = qty_in_batch*(b+1)\n",
        "\n",
        "            # print(b, n_batch, start_, end_)\n",
        "\n",
        "            X_tmp = X[:, start_ : end_]\n",
        "            y_tmp = y[start_ : end_]\n",
        "            y_pred_tmp = np.dot(W, X_tmp)\n",
        "            err = calc_mse(y_tmp, y_pred_tmp)\n",
        "            W -= (alpha * (1/n * 2 * np.dot((y_pred_tmp - y_tmp), X_tmp.T)))\n",
        "\n",
        "        if i % (iterations / 800) == 0:\n",
        "                i_sgd.append(i)\n",
        "                err_sgd.append(err)\n",
        "                # print(err)\n",
        "    # plt.axis(ymax=50, xmax=400)\n",
        "    plt.grid(True)      \n",
        "    plt.suptitle('sgd_model')\n",
        "    return plt.scatter(i_sgd, err_sgd, label='sgd_model')\n",
        "\n",
        "#     return W\n"
      ],
      "execution_count": 292,
      "outputs": []
    },
    {
      "cell_type": "code",
      "metadata": {
        "id": "jxCU4arS_Dle",
        "colab_type": "code",
        "colab": {
          "base_uri": "https://localhost:8080/",
          "height": 286
        },
        "outputId": "bc3834eb-beba-46fd-86b4-9e602e843d49"
      },
      "source": [
        "eval_model(X_st, y, iterations=1000, alpha=1e-2)"
      ],
      "execution_count": 293,
      "outputs": [
        {
          "output_type": "execute_result",
          "data": {
            "text/plain": [
              "<matplotlib.collections.PathCollection at 0x7fdb230a7978>"
            ]
          },
          "metadata": {
            "tags": []
          },
          "execution_count": 293
        },
        {
          "output_type": "display_data",
          "data": {
            "image/png": "[encoded data removed]",
            "text/plain": [
              "<Figure size 432x288 with 1 Axes>"
            ]
          },
          "metadata": {
            "tags": [],
            "needs_background": "light"
          }
        }
      ]
    },
    {
      "cell_type": "code",
      "metadata": {
        "id": "tPnpDEBA_Dlg",
        "colab_type": "code",
        "colab": {
          "base_uri": "https://localhost:8080/",
          "height": 311
        },
        "outputId": "15770cae-7d64-481d-b575-8b02d0733dc7"
      },
      "source": [
        "eval_sgd_model(X_st, y, iterations=1000, qty_in_batch=64, alpha=1e-2)\n"
      ],
      "execution_count": 294,
      "outputs": [
        {
          "output_type": "execute_result",
          "data": {
            "text/plain": [
              "<matplotlib.collections.PathCollection at 0x7fdb23004f60>"
            ]
          },
          "metadata": {
            "tags": []
          },
          "execution_count": 294
        },
        {
          "output_type": "display_data",
          "data": {
            "image/png": "[encoded data removed]",
            "text/plain": [
              "<Figure size 432x288 with 1 Axes>"
            ]
          },
          "metadata": {
            "tags": [],
            "needs_background": "light"
          }
        }
      ]
    },
    {
      "cell_type": "code",
      "metadata": {
        "id": "bVO0vZ5uEXaW",
        "colab_type": "code",
        "colab": {
          "base_uri": "https://localhost:8080/",
          "height": 311
        },
        "outputId": "3715c3bf-6c52-4848-d44e-987168b1d6b0"
      },
      "source": [
        "# Или на одном графике:\n",
        "eval_sgd_model(X_st, y, iterations=1000, qty_in_batch=64, alpha=1e-2)\n",
        "eval_model(X_st, y, iterations=1000, alpha=1e-2)\n",
        "plt.legend()\n",
        "\n"
      ],
      "execution_count": 295,
      "outputs": [
        {
          "output_type": "execute_result",
          "data": {
            "text/plain": [
              "<matplotlib.legend.Legend at 0x7fdb22feebe0>"
            ]
          },
          "metadata": {
            "tags": []
          },
          "execution_count": 295
        },
        {
          "output_type": "display_data",
          "data": {
            "image/png": "[encoded data removed]",
            "text/plain": [
              "<Figure size 432x288 with 1 Axes>"
            ]
          },
          "metadata": {
            "tags": [],
            "needs_background": "light"
          }
        }
      ]
    },
    {
      "cell_type": "markdown",
      "metadata": {
        "id": "7y9icMzg5Ebt",
        "colab_type": "text"
      },
      "source": [
        "**Судя по графикам сходимость наступает где-то на 200 итерации, но при стохастическом градиентом спуске среднеквадратичная ошибка находится в районе 15, а при обычном - чуть более 20.**"
      ]
    },
    {
      "cell_type": "code",
      "metadata": {
        "id": "oowIS9ar5LTZ",
        "colab_type": "code",
        "colab": {
          "base_uri": "https://localhost:8080/",
          "height": 34
        },
        "outputId": "c345522f-f2c5-47a2-c25b-ebe06792a41f"
      },
      "source": [
        "print('*-'*100)"
      ],
      "execution_count": 53,
      "outputs": [
        {
          "output_type": "stream",
          "text": [
            "*-*-*-*-*-*-*-*-*-*-*-*-*-*-*-*-*-*-*-*-*-*-*-*-*-*-*-*-*-*-*-*-*-*-*-*-*-*-*-*-*-*-*-*-*-*-*-*-*-*-*-*-*-*-*-*-*-*-*-*-*-*-*-*-*-*-*-*-*-*-*-*-*-*-*-*-*-*-*-*-*-*-*-*-*-*-*-*-*-*-*-*-*-*-*-*-*-*-*-*-\n"
          ],
          "name": "stdout"
        }
      ]
    },
    {
      "cell_type": "markdown",
      "metadata": {
        "id": "eio_8IFc_Dli",
        "colab_type": "text"
      },
      "source": [
        "**Модифицировать решение первого задания путем добавления  L2 -регуляризации (в функцию, считающую MSE, нужно добавить норму вектора весов) и сравнить результаты.**"
      ]
    },
    {
      "cell_type": "code",
      "metadata": {
        "id": "kky32pDq8AEi",
        "colab_type": "code",
        "colab": {
          "base_uri": "https://localhost:8080/",
          "height": 238
        },
        "outputId": "a0774fc8-3731-416f-b5ac-b21d6b38c174"
      },
      "source": [
        "# Функция нормализации\n",
        "def normalization(X):\n",
        "  X = X.astype(np.float64)\n",
        "  for i in range (1, X.shape[0]):\n",
        "    X[i] = (X[i] - X[i].min()) / (X[i].max() - X[i].min())\n",
        "  return(X)\n",
        "\n",
        "normalization(X_st) # Проверка"
      ],
      "execution_count": 296,
      "outputs": [
        {
          "output_type": "execute_result",
          "data": {
            "text/plain": [
              "array([[1.        , 1.        , 1.        , ..., 1.        , 1.        ,\n",
              "        1.        ],\n",
              "       [0.93143087, 0.30873341, 0.62986037, ..., 0.23858093, 0.7375656 ,\n",
              "        0.45899721],\n",
              "       [0.5736064 , 0.62791585, 0.3939443 , ..., 0.50556544, 0.40118571,\n",
              "        0.64445231],\n",
              "       ...,\n",
              "       [0.40429989, 0.219584  , 0.64695672, ..., 0.79389911, 0.7133081 ,\n",
              "        0.51888591],\n",
              "       [0.42937328, 0.40674222, 0.70877586, ..., 0.55085788, 0.54306569,\n",
              "        0.66398464],\n",
              "       [0.51984044, 0.7047437 , 0.39547421, ..., 0.49242143, 0.55393496,\n",
              "        0.50308219]])"
            ]
          },
          "metadata": {
            "tags": []
          },
          "execution_count": 296
        }
      ]
    },
    {
      "cell_type": "code",
      "metadata": {
        "id": "TFhuqUu77C3z",
        "colab_type": "code",
        "colab": {}
      },
      "source": [
        "# Функция среднеквадратичной ошибки с нормой весов\n",
        "def calc_mse(y, y_pred):\n",
        "    err = np.mean((y - y_pred)**2)\n",
        "    return err"
      ],
      "execution_count": 297,
      "outputs": []
    },
    {
      "cell_type": "code",
      "metadata": {
        "id": "wWx_shJ0_Dlj",
        "colab_type": "code",
        "colab": {}
      },
      "source": [
        "# Без нормализации\n",
        "def eval_model_reg2(X, y, iterations, alpha=1e-4, lambda_=1e-8):\n",
        "    i_reg2 = []\n",
        "    err_reg2 = []\n",
        "    np.random.seed(42)\n",
        "    W = np.random.randn(X.shape[0])\n",
        "    n = X.shape[1]\n",
        "    for i in range(1, iterations+1):\n",
        "        y_pred = np.dot(W, X)\n",
        "        err = calc_mse(y, y_pred)\n",
        "        W -= alpha * (1/n * 2 * np.dot((y_pred - y), X.T) + lambda_ * W) \n",
        "        if i % (iterations / 200) == 0:\n",
        "            i_reg2.append(i)\n",
        "            err_reg2.append(err)\n",
        "            plt.grid(True)      \n",
        "    return plt.scatter(i_reg2, err_reg2, label='without_normalization')\n"
      ],
      "execution_count": 298,
      "outputs": []
    },
    {
      "cell_type": "code",
      "metadata": {
        "id": "_keCAHNt8wJE",
        "colab_type": "code",
        "colab": {}
      },
      "source": [
        "# С нормализацией\n",
        "def eval_model_reg2_norm(X, y, iterations, alpha=1e-4, lambda_=1e-8):\n",
        "    i_norm = []\n",
        "    err_norm = []\n",
        "\n",
        "    np.random.seed(42)\n",
        "    W = np.random.randn(X.shape[0])\n",
        "    n = X.shape[1]\n",
        "    X_norm = normalization(X) # Добавим функцию нормализации\n",
        "    for i in range(1, iterations+1):\n",
        "        y_pred = np.dot(W, X_norm)\n",
        "        err = calc_mse(y, y_pred)\n",
        "        W -= alpha * (1/n * 2 * np.dot((y_pred - y), X_norm.T) + lambda_ * W) \n",
        "        if i % (iterations / 100) == 0:\n",
        "            i_norm.append(i)\n",
        "            err_norm.append(err)\n",
        "            plt.grid(True)\n",
        "    return plt.scatter(i_norm, err_norm, label='with_normalization')\n",
        "    #     print(i, W, err)\n",
        "    # return err"
      ],
      "execution_count": 280,
      "outputs": []
    },
    {
      "cell_type": "code",
      "metadata": {
        "id": "gVRIb8ud88DT",
        "colab_type": "code",
        "colab": {
          "base_uri": "https://localhost:8080/",
          "height": 606
        },
        "outputId": "fd3e3384-f0a6-456b-de49-9021b9da6067"
      },
      "source": [
        "plt.figure(figsize=(18,10))\n",
        "eval_model_reg2(X_tr, y, iterations=5000, alpha=1e-2, lambda_=1e-4)\n",
        "eval_model_reg2_norm(X_tr, y, iterations=5000, alpha=1e-2, lambda_=1e-4)\n",
        "plt.legend()\n",
        "plt.xlabel('iterations')\n",
        "plt.ylabel('errors')\n",
        "\n",
        "plt.show()\n"
      ],
      "execution_count": 299,
      "outputs": [
        {
          "output_type": "display_data",
          "data": {
            "image/png": "[encoded data removed]",
            "text/plain": [
              "<Figure size 1296x720 with 1 Axes>"
            ]
          },
          "metadata": {
            "tags": [],
            "needs_background": "light"
          }
        }
      ]
    },
    {
      "cell_type": "markdown",
      "metadata": {
        "id": "QufzJb7bhL6X",
        "colab_type": "text"
      },
      "source": [
        "**Ответ: у меня получается с нормализацией график плавный, но он выходит на плато через очень большой количество итераций.**"
      ]
    }
  ]
}