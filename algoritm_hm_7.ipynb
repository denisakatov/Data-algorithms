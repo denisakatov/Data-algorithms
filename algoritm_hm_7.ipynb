{
 "cells": [
  {
   "cell_type": "markdown",
   "metadata": {
    "colab_type": "text",
    "id": "ANWmZgT2uf99"
   },
   "source": [
    "**1. К алгоритму kNN, реализованному на уроке, реализовать добавление весов для соседей в зависимости от номера соседа.**\n",
    "\n",
    "**2. К алгоритму kNN, реализованному на уроке, реализовать добавление весов для соседей в зависимости от расстояния до соседа. Сравнить метрики качества и сложность разделяющей гиперплоскости. Сделать выводы.**\n",
    "\n",
    "**3. Настроить оптимальное значение числа соседей для моделей из п.1 и п.2, сделать выводы.**\n",
    "\n",
    "**4. Написать функцию подсчета метрики качества кластеризации как среднее квадратичное внутриклассовое расстояние и построить график ее зависимости от количества кластеров k (взять от 1 до 10) для выборки данных из данного урока (создать датасет, как в методичке).**"
   ]
  },
  {
   "cell_type": "markdown",
   "metadata": {},
   "source": [
    "## 1. К алгоритму kNN, реализованному на уроке, реализовать добавление весов для соседей в зависимости от номера соседа.\n",
    "## 2. К алгоритму kNN, реализованному на уроке, реализовать добавление весов для соседей в зависимости от расстояния до соседа. Сравнить метрики качества и сложность разделяющей гиперплоскости. Сделать выводы."
   ]
  },
  {
   "cell_type": "code",
   "execution_count": 32,
   "metadata": {
    "colab": {},
    "colab_type": "code",
    "id": "ChmkZ71kuf9-"
   },
   "outputs": [],
   "source": [
    "import numpy as np\n",
    "from sklearn import model_selection\n",
    "from sklearn.datasets import load_iris\n",
    "import matplotlib.pyplot as plt\n",
    "from matplotlib.colors import ListedColormap"
   ]
  },
  {
   "cell_type": "markdown",
   "metadata": {
    "colab_type": "text",
    "id": "V5FaldH6uf-B"
   },
   "source": [
    "Загрузим один из \"игрушечных\" датасетов из sklearn."
   ]
  },
  {
   "cell_type": "code",
   "execution_count": 33,
   "metadata": {
    "colab": {},
    "colab_type": "code",
    "id": "_49Y22E9uf-C"
   },
   "outputs": [],
   "source": [
    "X, y = load_iris(return_X_y=True)\n",
    "\n",
    "# Для наглядности возьмем только первые два признака (всего в датасете их 4)\n",
    "X = X[:, :2]"
   ]
  },
  {
   "cell_type": "markdown",
   "metadata": {
    "colab_type": "text",
    "id": "ZpwmydFPuf-F"
   },
   "source": [
    "Разделим выборку на обучающую и тестовую"
   ]
  },
  {
   "cell_type": "code",
   "execution_count": 34,
   "metadata": {
    "colab": {},
    "colab_type": "code",
    "id": "ACYClLghuf-F"
   },
   "outputs": [],
   "source": [
    "X_train, X_test, y_train, y_test = model_selection.train_test_split(X, y, test_size=0.2, random_state=1)"
   ]
  },
  {
   "cell_type": "code",
   "execution_count": 35,
   "metadata": {
    "colab": {},
    "colab_type": "code",
    "id": "Johgj2p6uf-J",
    "outputId": "081c6165-bd71-4800-9ab1-78646f5489fd"
   },
   "outputs": [
    {
     "data": {
      "text/plain": [
       "<matplotlib.collections.PathCollection at 0x1787e567978>"
      ]
     },
     "execution_count": 35,
     "metadata": {},
     "output_type": "execute_result"
    },
    {
     "data": {
      "image/png": "[encoded data removed]",
      "text/plain": [
       "<Figure size 504x504 with 1 Axes>"
      ]
     },
     "metadata": {
      "needs_background": "light"
     },
     "output_type": "display_data"
    }
   ],
   "source": [
    "cmap = ListedColormap(['red', 'green', 'blue'])\n",
    "plt.figure(figsize=(7, 7))\n",
    "plt.scatter(X[:, 0], X[:, 1], c=y, cmap=cmap)"
   ]
  },
  {
   "cell_type": "markdown",
   "metadata": {
    "colab_type": "text",
    "id": "59xP1kfUuf-O"
   },
   "source": [
    "Используем евклидову метрику. Реализуем функцию для ее подсчета."
   ]
  },
  {
   "cell_type": "code",
   "execution_count": 36,
   "metadata": {
    "colab": {},
    "colab_type": "code",
    "id": "MKipIKeGuf-P"
   },
   "outputs": [],
   "source": [
    "def e_metrics(x1, x2):\n",
    "    \n",
    "    distance = 0\n",
    "    for i in range(len(x1)):\n",
    "        distance += np.square(x1[i] - x2[i])\n",
    "    \n",
    "    return np.sqrt(distance)"
   ]
  },
  {
   "cell_type": "markdown",
   "metadata": {
    "colab_type": "text",
    "id": "1tvFJ8-ouf-T"
   },
   "source": [
    "## Реализуем алгоритм поиска k ближайших соседей. Изменим фунцию с добавлением весов по формуле w(i)=q^i ,  q∈(0,1) ;"
   ]
  },
  {
   "cell_type": "code",
   "execution_count": 318,
   "metadata": {
    "colab": {},
    "colab_type": "code",
    "id": "LIKuDr9huf-V"
   },
   "outputs": [],
   "source": [
    "def knn_index(x_train, y_train, x_test, k, q):\n",
    "    \n",
    "    answers = []\n",
    "   \n",
    "    for x in x_test:\n",
    "        # ИНДЕКС БУДЕМ ОБНУЛЯТЬ ПРИ НОВОМ ЦИКЛЕ\n",
    "        index = 0\n",
    "        test_distances = []\n",
    "            \n",
    "        for i in range(len(x_train)):\n",
    "            \n",
    "            # расчет расстояния от классифицируемого объекта до\n",
    "            # объекта обучающей выборки\n",
    "            distance = e_metrics(x, x_train[i])\n",
    "            \n",
    "            # Записываем в список значение расстояния и ответа на объекте обучающей выборки\n",
    "            test_distances.append((distance, y_train[i]))\n",
    "        \n",
    "        # создаем словарь со всеми возможными классами\n",
    "        classes = {class_item: 0 for class_item in set(y_train)}\n",
    "        \n",
    "        # Сортируем список и среди первых k элементов подсчитаем частоту появления разных классов\n",
    "        \n",
    "        \n",
    "        #ИЗМЕНИМ ЦИКЛ СОГЛАСНО ФОРМУЛЕ w(i)=q*i ,  q∈(0,1) ;\n",
    "        for d in sorted(test_distances)[0:k]:\n",
    "            index += 1\n",
    "            w = q**index\n",
    "            classes[d[1]] += d[0]*w\n",
    "            \n",
    "        # Записываем в список ответов наиболее часто встречающийся класс\n",
    "        answers.append(sorted(classes, key=classes.get)[-1])\n",
    "    return answers"
   ]
  },
  {
   "cell_type": "markdown",
   "metadata": {},
   "source": [
    " ## Изменим фунцию с добавлением весов в зависимостри от расстояния по формуле w(d)=q^d , q∈(0,1);"
   ]
  },
  {
   "cell_type": "code",
   "execution_count": 326,
   "metadata": {},
   "outputs": [],
   "source": [
    "def knn_distance(x_train, y_train, x_test, k, q):\n",
    "    \n",
    "    answers = []\n",
    "   \n",
    "    for x in x_test:\n",
    "\n",
    "        test_distances = []\n",
    "            \n",
    "        for i in range(len(x_train)):\n",
    "            \n",
    "            # расчет расстояния от классифицируемого объекта до\n",
    "            # объекта обучающей выборки\n",
    "            distance = e_metrics(x, x_train[i])\n",
    "            \n",
    "            # Записываем в список значение расстояния и ответа на объекте обучающей выборки\n",
    "            test_distances.append((distance, y_train[i]))\n",
    "        \n",
    "        # создаем словарь со всеми возможными классами\n",
    "        classes = {class_item: 0 for class_item in set(y_train)}\n",
    "        \n",
    "        # Сортируем список и среди первых k элементов подсчитаем частоту появления разных классов\n",
    "        \n",
    "        \n",
    "        #ИЗМЕНИМ ЦИКЛ СОГЛАСНО ФОРМУЛЕ w(i)=q*i ,  q∈(0,1) ;\n",
    "        for d in sorted(test_distances)[0:k]:\n",
    "            w = q**d[1]\n",
    "            classes[d[1]] += d[0]*w\n",
    "            \n",
    "        # Записываем в список ответов наиболее часто встречающийся класс\n",
    "        answers.append(sorted(classes, key=classes.get)[-1])\n",
    "    return answers"
   ]
  },
  {
   "cell_type": "code",
   "execution_count": 295,
   "metadata": {
    "colab": {},
    "colab_type": "code",
    "id": "eK2Bn_7ouf-Y"
   },
   "outputs": [],
   "source": [
    "def accuracy(pred, y):\n",
    "    return (sum(pred == y) / len(y))"
   ]
  },
  {
   "cell_type": "markdown",
   "metadata": {
    "colab_type": "text",
    "id": "7DVrbUPyuf-X"
   },
   "source": [
    "Как я понимаю, реализация весов "
   ]
  },
  {
   "cell_type": "markdown",
   "metadata": {
    "colab_type": "text",
    "id": "SprqYVBQuf-a"
   },
   "source": [
    "Проверим работу алгоритма при различных k"
   ]
  },
  {
   "cell_type": "code",
   "execution_count": 333,
   "metadata": {
    "colab": {},
    "colab_type": "code",
    "id": "8K98g57quf-a",
    "outputId": "be768ef7-9825-4ffb-9dc6-516565e92263"
   },
   "outputs": [
    {
     "name": "stdout",
     "output_type": "stream",
     "text": [
      "Точность алгоритма при k = 5: 0.833\n"
     ]
    }
   ],
   "source": [
    "q = 0.8# (от 0 до 1)\n",
    "k = 5\n",
    "y_pred = knn_index(X_train, y_train, X_test, k, q)\n",
    "print(f'Точность алгоритма при k = {k}: {accuracy(y_pred, y_test):.3f}')\n",
    "\n"
   ]
  },
  {
   "cell_type": "code",
   "execution_count": 337,
   "metadata": {},
   "outputs": [
    {
     "name": "stdout",
     "output_type": "stream",
     "text": [
      "Точность алгоритма при k = 5: 0.867\n"
     ]
    }
   ],
   "source": [
    "q = 0.8# (от 0 до 1)\n",
    "k = 5\n",
    "y_pred = knn_distance(X_train, y_train, X_test, k, q)\n",
    "print(f'Точность алгоритма при k = {k}: {accuracy(y_pred, y_test):.3f}')\n",
    "\n"
   ]
  },
  {
   "cell_type": "markdown",
   "metadata": {},
   "source": [
    "## 3. Настроить оптимальное значение числа соседей для моделей из п.1 и п.2, сделать выводы."
   ]
  },
  {
   "cell_type": "code",
   "execution_count": 381,
   "metadata": {},
   "outputs": [
    {
     "name": "stdout",
     "output_type": "stream",
     "text": [
      "Точность алгоритма в зависимости от индекса    при k = 0: 0.200\n",
      "Точность алгоритма в зависимости от расстояния при k = 0: 0.200\n",
      "Точность алгоритма в зависимости от индекса    при k = 1: 0.467\n",
      "Точность алгоритма в зависимости от расстояния при k = 1: 0.467\n",
      "Точность алгоритма в зависимости от индекса    при k = 2: 0.667\n",
      "Точность алгоритма в зависимости от расстояния при k = 2: 0.667\n",
      "Точность алгоритма в зависимости от индекса    при k = 3: 0.700\n",
      "Точность алгоритма в зависимости от расстояния при k = 3: 0.700\n",
      "Точность алгоритма в зависимости от индекса    при k = 4: 0.733\n",
      "Точность алгоритма в зависимости от расстояния при k = 4: 0.733\n",
      "Точность алгоритма в зависимости от индекса    при k = 5: 0.833\n",
      "Точность алгоритма в зависимости от расстояния при k = 5: 0.833\n",
      "Точность алгоритма в зависимости от индекса    при k = 6: 0.867\n",
      "Точность алгоритма в зависимости от расстояния при k = 6: 0.867\n",
      "Точность алгоритма в зависимости от индекса    при k = 7: 0.800\n",
      "Точность алгоритма в зависимости от расстояния при k = 7: 0.800\n",
      "Точность алгоритма в зависимости от индекса    при k = 8: 0.767\n",
      "Точность алгоритма в зависимости от расстояния при k = 8: 0.767\n",
      "Точность алгоритма в зависимости от индекса    при k = 9: 0.833\n",
      "Точность алгоритма в зависимости от расстояния при k = 9: 0.833\n",
      "Точность алгоритма в зависимости от индекса    при k = 10: 0.867\n",
      "Точность алгоритма в зависимости от расстояния при k = 10: 0.867\n",
      "Точность алгоритма в зависимости от индекса    при k = 11: 0.867\n",
      "Точность алгоритма в зависимости от расстояния при k = 11: 0.867\n",
      "Точность алгоритма в зависимости от индекса    при k = 12: 0.833\n",
      "Точность алгоритма в зависимости от расстояния при k = 12: 0.833\n",
      "Точность алгоритма в зависимости от индекса    при k = 13: 0.867\n",
      "Точность алгоритма в зависимости от расстояния при k = 13: 0.867\n",
      "Точность алгоритма в зависимости от индекса    при k = 14: 0.833\n",
      "Точность алгоритма в зависимости от расстояния при k = 14: 0.833\n",
      "Точность алгоритма в зависимости от индекса    при k = 15: 0.833\n",
      "Точность алгоритма в зависимости от расстояния при k = 15: 0.833\n",
      "Точность алгоритма в зависимости от индекса    при k = 16: 0.833\n",
      "Точность алгоритма в зависимости от расстояния при k = 16: 0.833\n",
      "Точность алгоритма в зависимости от индекса    при k = 17: 0.833\n",
      "Точность алгоритма в зависимости от расстояния при k = 17: 0.833\n",
      "Точность алгоритма в зависимости от индекса    при k = 18: 0.833\n",
      "Точность алгоритма в зависимости от расстояния при k = 18: 0.833\n",
      "Точность алгоритма в зависимости от индекса    при k = 19: 0.833\n",
      "Точность алгоритма в зависимости от расстояния при k = 19: 0.833\n",
      "0.8666666666666667\n"
     ]
    },
    {
     "data": {
      "image/png": "[encoded data removed]",
      "text/plain": [
       "<Figure size 1080x720 with 1 Axes>"
      ]
     },
     "metadata": {
      "needs_background": "light"
     },
     "output_type": "display_data"
    }
   ],
   "source": [
    "q = 0.8 # (от 0 до 1)\n",
    "k = [i for i in range(0, 20)]\n",
    "plt.figure(figsize=(15, 10))\n",
    "sort = []\n",
    "sort1 = 1\n",
    "for i in k:    \n",
    "    y_pred = knn_index(X_train, y_train, X_test, i, q)\n",
    "    sort.append(accuracy(y_pred, y_test))\n",
    "    print(f'Точность алгоритма в зависимости от индекса    при k = {i}: {accuracy(y_pred, y_test):.3f}')\n",
    "    print(f'Точность алгоритма в зависимости от расстояния при k = {i}: {accuracy(y_pred, y_test):.3f}')\n",
    "    plt.scatter(i, f'{accuracy(y_pred, y_test):.3f}')\n",
    "print(sorted(sort)[-1])\n",
    "\n",
    "\n",
    "    \n"
   ]
  },
  {
   "cell_type": "code",
   "execution_count": 382,
   "metadata": {},
   "outputs": [
    {
     "name": "stdout",
     "output_type": "stream",
     "text": [
      "Точность алгоритма в зависимости от индекса    при k = 0: 0.200\n",
      "Точность алгоритма в зависимости от расстояния при k = 0: 0.200\n",
      "Точность алгоритма в зависимости от индекса    при k = 1: 0.467\n",
      "Точность алгоритма в зависимости от расстояния при k = 1: 0.467\n",
      "Точность алгоритма в зависимости от индекса    при k = 2: 0.700\n",
      "Точность алгоритма в зависимости от расстояния при k = 2: 0.700\n",
      "Точность алгоритма в зависимости от индекса    при k = 3: 0.767\n",
      "Точность алгоритма в зависимости от расстояния при k = 3: 0.767\n",
      "Точность алгоритма в зависимости от индекса    при k = 4: 0.733\n",
      "Точность алгоритма в зависимости от расстояния при k = 4: 0.733\n",
      "Точность алгоритма в зависимости от индекса    при k = 5: 0.867\n",
      "Точность алгоритма в зависимости от расстояния при k = 5: 0.867\n",
      "Точность алгоритма в зависимости от индекса    при k = 6: 0.867\n",
      "Точность алгоритма в зависимости от расстояния при k = 6: 0.867\n",
      "Точность алгоритма в зависимости от индекса    при k = 7: 0.833\n",
      "Точность алгоритма в зависимости от расстояния при k = 7: 0.833\n",
      "Точность алгоритма в зависимости от индекса    при k = 8: 0.800\n",
      "Точность алгоритма в зависимости от расстояния при k = 8: 0.800\n",
      "Точность алгоритма в зависимости от индекса    при k = 9: 0.867\n",
      "Точность алгоритма в зависимости от расстояния при k = 9: 0.867\n",
      "Точность алгоритма в зависимости от индекса    при k = 10: 0.867\n",
      "Точность алгоритма в зависимости от расстояния при k = 10: 0.867\n",
      "Точность алгоритма в зависимости от индекса    при k = 11: 0.833\n",
      "Точность алгоритма в зависимости от расстояния при k = 11: 0.833\n",
      "Точность алгоритма в зависимости от индекса    при k = 12: 0.800\n",
      "Точность алгоритма в зависимости от расстояния при k = 12: 0.800\n",
      "Точность алгоритма в зависимости от индекса    при k = 13: 0.800\n",
      "Точность алгоритма в зависимости от расстояния при k = 13: 0.800\n",
      "Точность алгоритма в зависимости от индекса    при k = 14: 0.867\n",
      "Точность алгоритма в зависимости от расстояния при k = 14: 0.867\n",
      "Точность алгоритма в зависимости от индекса    при k = 15: 0.833\n",
      "Точность алгоритма в зависимости от расстояния при k = 15: 0.833\n",
      "Точность алгоритма в зависимости от индекса    при k = 16: 0.833\n",
      "Точность алгоритма в зависимости от расстояния при k = 16: 0.833\n",
      "Точность алгоритма в зависимости от индекса    при k = 17: 0.800\n",
      "Точность алгоритма в зависимости от расстояния при k = 17: 0.800\n",
      "Точность алгоритма в зависимости от индекса    при k = 18: 0.800\n",
      "Точность алгоритма в зависимости от расстояния при k = 18: 0.800\n",
      "Точность алгоритма в зависимости от индекса    при k = 19: 0.767\n",
      "Точность алгоритма в зависимости от расстояния при k = 19: 0.767\n",
      "0.8666666666666667\n"
     ]
    },
    {
     "data": {
      "image/png": "[encoded data removed]",
      "text/plain": [
       "<Figure size 1080x720 with 1 Axes>"
      ]
     },
     "metadata": {
      "needs_background": "light"
     },
     "output_type": "display_data"
    }
   ],
   "source": [
    "q = 0.8# (от 0 до 1)\n",
    "k = [i for i in range(0, 20)]\n",
    "plt.figure(figsize=(15, 10))\n",
    "sort_knn_distance = []\n",
    "for i in k:    \n",
    "    y_pred = knn_distance(X_train, y_train, X_test, i, q)\n",
    "    sort_knn_distance.append(accuracy(y_pred, y_test))\n",
    "    print(f'Точность алгоритма в зависимости от индекса    при k = {i}: {accuracy(y_pred, y_test):.3f}')\n",
    "    print(f'Точность алгоритма в зависимости от расстояния при k = {i}: {accuracy(y_pred, y_test):.3f}')\n",
    "    plt.scatter(i, f'{accuracy(y_pred, y_test):.3f}')\n",
    "    sort_knn_distance\n",
    "print(sorted(sort_knn_distance)[-1])\n",
    "    \n"
   ]
  },
  {
   "cell_type": "markdown",
   "metadata": {
    "colab_type": "text",
    "id": "YahR_F7xuf-d"
   },
   "source": [
    "То ли что-то нахимичил: получается максимальная точность и в одном и в другом слуваях = 0.86. Результаты хоть и разняться, но немного. Выведем все в одном цикле:"
   ]
  },
  {
   "cell_type": "code",
   "execution_count": 395,
   "metadata": {},
   "outputs": [
    {
     "name": "stdout",
     "output_type": "stream",
     "text": [
      "Точность алгоритма в зависимости от индекса    при k = 0 и q = 0.0: 0.200\n",
      "Точность алгоритма в зависимости от расстояния при k = 0 и q = 0.0: 0.200\n",
      "Точность алгоритма в зависимости от индекса    при k = 1 и q = 0.0: 0.200\n",
      "Точность алгоритма в зависимости от расстояния при k = 1 и q = 0.0: 0.400\n",
      "Точность алгоритма в зависимости от индекса    при k = 2 и q = 0.0: 0.200\n",
      "Точность алгоритма в зависимости от расстояния при k = 2 и q = 0.0: 0.567\n",
      "Точность алгоритма в зависимости от индекса    при k = 3 и q = 0.0: 0.200\n",
      "Точность алгоритма в зависимости от расстояния при k = 3 и q = 0.0: 0.567\n",
      "Точность алгоритма в зависимости от индекса    при k = 4 и q = 0.0: 0.200\n",
      "Точность алгоритма в зависимости от расстояния при k = 4 и q = 0.0: 0.567\n",
      "Точность алгоритма в зависимости от индекса    при k = 5 и q = 0.0: 0.200\n",
      "Точность алгоритма в зависимости от расстояния при k = 5 и q = 0.0: 0.567\n",
      "Точность алгоритма в зависимости от индекса    при k = 6 и q = 0.0: 0.200\n",
      "Точность алгоритма в зависимости от расстояния при k = 6 и q = 0.0: 0.567\n",
      "Точность алгоритма в зависимости от индекса    при k = 7 и q = 0.0: 0.200\n",
      "Точность алгоритма в зависимости от расстояния при k = 7 и q = 0.0: 0.567\n",
      "Точность алгоритма в зависимости от индекса    при k = 8 и q = 0.0: 0.200\n",
      "Точность алгоритма в зависимости от расстояния при k = 8 и q = 0.0: 0.567\n",
      "Точность алгоритма в зависимости от индекса    при k = 9 и q = 0.0: 0.200\n",
      "Точность алгоритма в зависимости от расстояния при k = 9 и q = 0.0: 0.567\n",
      "Точность алгоритма в зависимости от индекса    при k = 0 и q = 0.1111111111111111: 0.200\n",
      "Точность алгоритма в зависимости от расстояния при k = 0 и q = 0.1111111111111111: 0.200\n",
      "Точность алгоритма в зависимости от индекса    при k = 1 и q = 0.1111111111111111: 0.467\n",
      "Точность алгоритма в зависимости от расстояния при k = 1 и q = 0.1111111111111111: 0.467\n",
      "Точность алгоритма в зависимости от индекса    при k = 2 и q = 0.1111111111111111: 0.667\n",
      "Точность алгоритма в зависимости от расстояния при k = 2 и q = 0.1111111111111111: 0.700\n",
      "Точность алгоритма в зависимости от индекса    при k = 3 и q = 0.1111111111111111: 0.633\n",
      "Точность алгоритма в зависимости от расстояния при k = 3 и q = 0.1111111111111111: 0.733\n",
      "Точность алгоритма в зависимости от индекса    при k = 4 и q = 0.1111111111111111: 0.633\n",
      "Точность алгоритма в зависимости от расстояния при k = 4 и q = 0.1111111111111111: 0.767\n",
      "Точность алгоритма в зависимости от индекса    при k = 5 и q = 0.1111111111111111: 0.633\n",
      "Точность алгоритма в зависимости от расстояния при k = 5 и q = 0.1111111111111111: 0.767\n",
      "Точность алгоритма в зависимости от индекса    при k = 6 и q = 0.1111111111111111: 0.633\n",
      "Точность алгоритма в зависимости от расстояния при k = 6 и q = 0.1111111111111111: 0.767\n",
      "Точность алгоритма в зависимости от индекса    при k = 7 и q = 0.1111111111111111: 0.633\n",
      "Точность алгоритма в зависимости от расстояния при k = 7 и q = 0.1111111111111111: 0.767\n",
      "Точность алгоритма в зависимости от индекса    при k = 8 и q = 0.1111111111111111: 0.633\n",
      "Точность алгоритма в зависимости от расстояния при k = 8 и q = 0.1111111111111111: 0.733\n",
      "Точность алгоритма в зависимости от индекса    при k = 9 и q = 0.1111111111111111: 0.633\n",
      "Точность алгоритма в зависимости от расстояния при k = 9 и q = 0.1111111111111111: 0.733\n",
      "Точность алгоритма в зависимости от индекса    при k = 0 и q = 0.2222222222222222: 0.200\n",
      "Точность алгоритма в зависимости от расстояния при k = 0 и q = 0.2222222222222222: 0.200\n",
      "Точность алгоритма в зависимости от индекса    при k = 1 и q = 0.2222222222222222: 0.467\n",
      "Точность алгоритма в зависимости от расстояния при k = 1 и q = 0.2222222222222222: 0.467\n",
      "Точность алгоритма в зависимости от индекса    при k = 2 и q = 0.2222222222222222: 0.667\n",
      "Точность алгоритма в зависимости от расстояния при k = 2 и q = 0.2222222222222222: 0.700\n",
      "Точность алгоритма в зависимости от индекса    при k = 3 и q = 0.2222222222222222: 0.633\n",
      "Точность алгоритма в зависимости от расстояния при k = 3 и q = 0.2222222222222222: 0.733\n",
      "Точность алгоритма в зависимости от индекса    при k = 4 и q = 0.2222222222222222: 0.633\n",
      "Точность алгоритма в зависимости от расстояния при k = 4 и q = 0.2222222222222222: 0.767\n",
      "Точность алгоритма в зависимости от индекса    при k = 5 и q = 0.2222222222222222: 0.633\n",
      "Точность алгоритма в зависимости от расстояния при k = 5 и q = 0.2222222222222222: 0.767\n",
      "Точность алгоритма в зависимости от индекса    при k = 6 и q = 0.2222222222222222: 0.633\n",
      "Точность алгоритма в зависимости от расстояния при k = 6 и q = 0.2222222222222222: 0.800\n",
      "Точность алгоритма в зависимости от индекса    при k = 7 и q = 0.2222222222222222: 0.633\n",
      "Точность алгоритма в зависимости от расстояния при k = 7 и q = 0.2222222222222222: 0.767\n",
      "Точность алгоритма в зависимости от индекса    при k = 8 и q = 0.2222222222222222: 0.633\n",
      "Точность алгоритма в зависимости от расстояния при k = 8 и q = 0.2222222222222222: 0.767\n",
      "Точность алгоритма в зависимости от индекса    при k = 9 и q = 0.2222222222222222: 0.633\n",
      "Точность алгоритма в зависимости от расстояния при k = 9 и q = 0.2222222222222222: 0.800\n",
      "Точность алгоритма в зависимости от индекса    при k = 0 и q = 0.3333333333333333: 0.200\n",
      "Точность алгоритма в зависимости от расстояния при k = 0 и q = 0.3333333333333333: 0.200\n",
      "Точность алгоритма в зависимости от индекса    при k = 1 и q = 0.3333333333333333: 0.467\n",
      "Точность алгоритма в зависимости от расстояния при k = 1 и q = 0.3333333333333333: 0.467\n",
      "Точность алгоритма в зависимости от индекса    при k = 2 и q = 0.3333333333333333: 0.667\n",
      "Точность алгоритма в зависимости от расстояния при k = 2 и q = 0.3333333333333333: 0.700\n",
      "Точность алгоритма в зависимости от индекса    при k = 3 и q = 0.3333333333333333: 0.633\n",
      "Точность алгоритма в зависимости от расстояния при k = 3 и q = 0.3333333333333333: 0.733\n",
      "Точность алгоритма в зависимости от индекса    при k = 4 и q = 0.3333333333333333: 0.633\n",
      "Точность алгоритма в зависимости от расстояния при k = 4 и q = 0.3333333333333333: 0.767\n",
      "Точность алгоритма в зависимости от индекса    при k = 5 и q = 0.3333333333333333: 0.633\n",
      "Точность алгоритма в зависимости от расстояния при k = 5 и q = 0.3333333333333333: 0.767\n",
      "Точность алгоритма в зависимости от индекса    при k = 6 и q = 0.3333333333333333: 0.633\n",
      "Точность алгоритма в зависимости от расстояния при k = 6 и q = 0.3333333333333333: 0.833\n",
      "Точность алгоритма в зависимости от индекса    при k = 7 и q = 0.3333333333333333: 0.633\n",
      "Точность алгоритма в зависимости от расстояния при k = 7 и q = 0.3333333333333333: 0.833\n",
      "Точность алгоритма в зависимости от индекса    при k = 8 и q = 0.3333333333333333: 0.633\n",
      "Точность алгоритма в зависимости от расстояния при k = 8 и q = 0.3333333333333333: 0.833\n",
      "Точность алгоритма в зависимости от индекса    при k = 9 и q = 0.3333333333333333: 0.633\n",
      "Точность алгоритма в зависимости от расстояния при k = 9 и q = 0.3333333333333333: 0.833\n",
      "Точность алгоритма в зависимости от индекса    при k = 0 и q = 0.4444444444444444: 0.200\n",
      "Точность алгоритма в зависимости от расстояния при k = 0 и q = 0.4444444444444444: 0.200\n",
      "Точность алгоритма в зависимости от индекса    при k = 1 и q = 0.4444444444444444: 0.467\n",
      "Точность алгоритма в зависимости от расстояния при k = 1 и q = 0.4444444444444444: 0.467\n",
      "Точность алгоритма в зависимости от индекса    при k = 2 и q = 0.4444444444444444: 0.667\n",
      "Точность алгоритма в зависимости от расстояния при k = 2 и q = 0.4444444444444444: 0.700\n",
      "Точность алгоритма в зависимости от индекса    при k = 3 и q = 0.4444444444444444: 0.633\n",
      "Точность алгоритма в зависимости от расстояния при k = 3 и q = 0.4444444444444444: 0.733\n",
      "Точность алгоритма в зависимости от индекса    при k = 4 и q = 0.4444444444444444: 0.667\n",
      "Точность алгоритма в зависимости от расстояния при k = 4 и q = 0.4444444444444444: 0.733\n",
      "Точность алгоритма в зависимости от индекса    при k = 5 и q = 0.4444444444444444: 0.667\n",
      "Точность алгоритма в зависимости от расстояния при k = 5 и q = 0.4444444444444444: 0.767\n",
      "Точность алгоритма в зависимости от индекса    при k = 6 и q = 0.4444444444444444: 0.667\n",
      "Точность алгоритма в зависимости от расстояния при k = 6 и q = 0.4444444444444444: 0.867\n",
      "Точность алгоритма в зависимости от индекса    при k = 7 и q = 0.4444444444444444: 0.667\n",
      "Точность алгоритма в зависимости от расстояния при k = 7 и q = 0.4444444444444444: 0.800\n",
      "Точность алгоритма в зависимости от индекса    при k = 8 и q = 0.4444444444444444: 0.667\n",
      "Точность алгоритма в зависимости от расстояния при k = 8 и q = 0.4444444444444444: 0.867\n",
      "Точность алгоритма в зависимости от индекса    при k = 9 и q = 0.4444444444444444: 0.667\n",
      "Точность алгоритма в зависимости от расстояния при k = 9 и q = 0.4444444444444444: 0.800\n",
      "Точность алгоритма в зависимости от индекса    при k = 0 и q = 0.5555555555555556: 0.200\n",
      "Точность алгоритма в зависимости от расстояния при k = 0 и q = 0.5555555555555556: 0.200\n",
      "Точность алгоритма в зависимости от индекса    при k = 1 и q = 0.5555555555555556: 0.467\n",
      "Точность алгоритма в зависимости от расстояния при k = 1 и q = 0.5555555555555556: 0.467\n",
      "Точность алгоритма в зависимости от индекса    при k = 2 и q = 0.5555555555555556: 0.633\n",
      "Точность алгоритма в зависимости от расстояния при k = 2 и q = 0.5555555555555556: 0.700\n",
      "Точность алгоритма в зависимости от индекса    при k = 3 и q = 0.5555555555555556: 0.667\n",
      "Точность алгоритма в зависимости от расстояния при k = 3 и q = 0.5555555555555556: 0.733\n",
      "Точность алгоритма в зависимости от индекса    при k = 4 и q = 0.5555555555555556: 0.700\n",
      "Точность алгоритма в зависимости от расстояния при k = 4 и q = 0.5555555555555556: 0.733\n",
      "Точность алгоритма в зависимости от индекса    при k = 5 и q = 0.5555555555555556: 0.733\n",
      "Точность алгоритма в зависимости от расстояния при k = 5 и q = 0.5555555555555556: 0.833\n",
      "Точность алгоритма в зависимости от индекса    при k = 6 и q = 0.5555555555555556: 0.733\n",
      "Точность алгоритма в зависимости от расстояния при k = 6 и q = 0.5555555555555556: 0.900\n",
      "Точность алгоритма в зависимости от индекса    при k = 7 и q = 0.5555555555555556: 0.733\n",
      "Точность алгоритма в зависимости от расстояния при k = 7 и q = 0.5555555555555556: 0.800\n",
      "Точность алгоритма в зависимости от индекса    при k = 8 и q = 0.5555555555555556: 0.733\n",
      "Точность алгоритма в зависимости от расстояния при k = 8 и q = 0.5555555555555556: 0.867\n",
      "Точность алгоритма в зависимости от индекса    при k = 9 и q = 0.5555555555555556: 0.733\n",
      "Точность алгоритма в зависимости от расстояния при k = 9 и q = 0.5555555555555556: 0.833\n",
      "Точность алгоритма в зависимости от индекса    при k = 0 и q = 0.6666666666666666: 0.200\n",
      "Точность алгоритма в зависимости от расстояния при k = 0 и q = 0.6666666666666666: 0.200\n",
      "Точность алгоритма в зависимости от индекса    при k = 1 и q = 0.6666666666666666: 0.467\n",
      "Точность алгоритма в зависимости от расстояния при k = 1 и q = 0.6666666666666666: 0.467\n",
      "Точность алгоритма в зависимости от индекса    при k = 2 и q = 0.6666666666666666: 0.633\n",
      "Точность алгоритма в зависимости от расстояния при k = 2 и q = 0.6666666666666666: 0.700\n",
      "Точность алгоритма в зависимости от индекса    при k = 3 и q = 0.6666666666666666: 0.700\n",
      "Точность алгоритма в зависимости от расстояния при k = 3 и q = 0.6666666666666666: 0.733\n",
      "Точность алгоритма в зависимости от индекса    при k = 4 и q = 0.6666666666666666: 0.733\n",
      "Точность алгоритма в зависимости от расстояния при k = 4 и q = 0.6666666666666666: 0.733\n",
      "Точность алгоритма в зависимости от индекса    при k = 5 и q = 0.6666666666666666: 0.767\n",
      "Точность алгоритма в зависимости от расстояния при k = 5 и q = 0.6666666666666666: 0.867\n",
      "Точность алгоритма в зависимости от индекса    при k = 6 и q = 0.6666666666666666: 0.800\n",
      "Точность алгоритма в зависимости от расстояния при k = 6 и q = 0.6666666666666666: 0.867\n",
      "Точность алгоритма в зависимости от индекса    при k = 7 и q = 0.6666666666666666: 0.767\n",
      "Точность алгоритма в зависимости от расстояния при k = 7 и q = 0.6666666666666666: 0.833\n",
      "Точность алгоритма в зависимости от индекса    при k = 8 и q = 0.6666666666666666: 0.767\n",
      "Точность алгоритма в зависимости от расстояния при k = 8 и q = 0.6666666666666666: 0.833\n",
      "Точность алгоритма в зависимости от индекса    при k = 9 и q = 0.6666666666666666: 0.767\n",
      "Точность алгоритма в зависимости от расстояния при k = 9 и q = 0.6666666666666666: 0.800\n",
      "Точность алгоритма в зависимости от индекса    при k = 0 и q = 0.7777777777777777: 0.200\n",
      "Точность алгоритма в зависимости от расстояния при k = 0 и q = 0.7777777777777777: 0.200\n",
      "Точность алгоритма в зависимости от индекса    при k = 1 и q = 0.7777777777777777: 0.467\n",
      "Точность алгоритма в зависимости от расстояния при k = 1 и q = 0.7777777777777777: 0.467\n",
      "Точность алгоритма в зависимости от индекса    при k = 2 и q = 0.7777777777777777: 0.667\n",
      "Точность алгоритма в зависимости от расстояния при k = 2 и q = 0.7777777777777777: 0.700\n",
      "Точность алгоритма в зависимости от индекса    при k = 3 и q = 0.7777777777777777: 0.700\n",
      "Точность алгоритма в зависимости от расстояния при k = 3 и q = 0.7777777777777777: 0.767\n",
      "Точность алгоритма в зависимости от индекса    при k = 4 и q = 0.7777777777777777: 0.733\n",
      "Точность алгоритма в зависимости от расстояния при k = 4 и q = 0.7777777777777777: 0.733\n",
      "Точность алгоритма в зависимости от индекса    при k = 5 и q = 0.7777777777777777: 0.833\n",
      "Точность алгоритма в зависимости от расстояния при k = 5 и q = 0.7777777777777777: 0.867\n",
      "Точность алгоритма в зависимости от индекса    при k = 6 и q = 0.7777777777777777: 0.867\n",
      "Точность алгоритма в зависимости от расстояния при k = 6 и q = 0.7777777777777777: 0.867\n",
      "Точность алгоритма в зависимости от индекса    при k = 7 и q = 0.7777777777777777: 0.800\n",
      "Точность алгоритма в зависимости от расстояния при k = 7 и q = 0.7777777777777777: 0.833\n",
      "Точность алгоритма в зависимости от индекса    при k = 8 и q = 0.7777777777777777: 0.767\n",
      "Точность алгоритма в зависимости от расстояния при k = 8 и q = 0.7777777777777777: 0.833\n",
      "Точность алгоритма в зависимости от индекса    при k = 9 и q = 0.7777777777777777: 0.800\n",
      "Точность алгоритма в зависимости от расстояния при k = 9 и q = 0.7777777777777777: 0.867\n",
      "Точность алгоритма в зависимости от индекса    при k = 0 и q = 0.8888888888888888: 0.200\n",
      "Точность алгоритма в зависимости от расстояния при k = 0 и q = 0.8888888888888888: 0.200\n",
      "Точность алгоритма в зависимости от индекса    при k = 1 и q = 0.8888888888888888: 0.467\n",
      "Точность алгоритма в зависимости от расстояния при k = 1 и q = 0.8888888888888888: 0.467\n",
      "Точность алгоритма в зависимости от индекса    при k = 2 и q = 0.8888888888888888: 0.667\n",
      "Точность алгоритма в зависимости от расстояния при k = 2 и q = 0.8888888888888888: 0.700\n",
      "Точность алгоритма в зависимости от индекса    при k = 3 и q = 0.8888888888888888: 0.700\n",
      "Точность алгоритма в зависимости от расстояния при k = 3 и q = 0.8888888888888888: 0.767\n",
      "Точность алгоритма в зависимости от индекса    при k = 4 и q = 0.8888888888888888: 0.733\n",
      "Точность алгоритма в зависимости от расстояния при k = 4 и q = 0.8888888888888888: 0.733\n",
      "Точность алгоритма в зависимости от индекса    при k = 5 и q = 0.8888888888888888: 0.867\n",
      "Точность алгоритма в зависимости от расстояния при k = 5 и q = 0.8888888888888888: 0.900\n",
      "Точность алгоритма в зависимости от индекса    при k = 6 и q = 0.8888888888888888: 0.867\n",
      "Точность алгоритма в зависимости от расстояния при k = 6 и q = 0.8888888888888888: 0.833\n",
      "Точность алгоритма в зависимости от индекса    при k = 7 и q = 0.8888888888888888: 0.800\n",
      "Точность алгоритма в зависимости от расстояния при k = 7 и q = 0.8888888888888888: 0.800\n",
      "Точность алгоритма в зависимости от индекса    при k = 8 и q = 0.8888888888888888: 0.800\n",
      "Точность алгоритма в зависимости от расстояния при k = 8 и q = 0.8888888888888888: 0.767\n",
      "Точность алгоритма в зависимости от индекса    при k = 9 и q = 0.8888888888888888: 0.867\n",
      "Точность алгоритма в зависимости от расстояния при k = 9 и q = 0.8888888888888888: 0.833\n",
      "Точность алгоритма в зависимости от индекса    при k = 0 и q = 1.0: 0.200\n",
      "Точность алгоритма в зависимости от расстояния при k = 0 и q = 1.0: 0.200\n",
      "Точность алгоритма в зависимости от индекса    при k = 1 и q = 1.0: 0.467\n",
      "Точность алгоритма в зависимости от расстояния при k = 1 и q = 1.0: 0.467\n",
      "Точность алгоритма в зависимости от индекса    при k = 2 и q = 1.0: 0.700\n",
      "Точность алгоритма в зависимости от расстояния при k = 2 и q = 1.0: 0.700\n",
      "Точность алгоритма в зависимости от индекса    при k = 3 и q = 1.0: 0.767\n",
      "Точность алгоритма в зависимости от расстояния при k = 3 и q = 1.0: 0.767\n",
      "Точность алгоритма в зависимости от индекса    при k = 4 и q = 1.0: 0.833\n",
      "Точность алгоритма в зависимости от расстояния при k = 4 и q = 1.0: 0.833\n",
      "Точность алгоритма в зависимости от индекса    при k = 5 и q = 1.0: 0.900\n",
      "Точность алгоритма в зависимости от расстояния при k = 5 и q = 1.0: 0.900\n",
      "Точность алгоритма в зависимости от индекса    при k = 6 и q = 1.0: 0.833\n",
      "Точность алгоритма в зависимости от расстояния при k = 6 и q = 1.0: 0.833\n",
      "Точность алгоритма в зависимости от индекса    при k = 7 и q = 1.0: 0.800\n",
      "Точность алгоритма в зависимости от расстояния при k = 7 и q = 1.0: 0.800\n",
      "Точность алгоритма в зависимости от индекса    при k = 8 и q = 1.0: 0.767\n",
      "Точность алгоритма в зависимости от расстояния при k = 8 и q = 1.0: 0.767\n",
      "Точность алгоритма в зависимости от индекса    при k = 9 и q = 1.0: 0.833\n",
      "Точность алгоритма в зависимости от расстояния при k = 9 и q = 1.0: 0.833\n"
     ]
    },
    {
     "data": {
      "text/plain": [
       "<Figure size 1080x720 with 0 Axes>"
      ]
     },
     "metadata": {},
     "output_type": "display_data"
    }
   ],
   "source": [
    "q = np.linspace(0, 1, 10)\n",
    "k = [i for i in range(0, 10)]\n",
    "plt.figure(figsize=(15, 10))\n",
    "sort_knn_distance = []\n",
    "for _q in q:\n",
    "    for i in k:    \n",
    "        y_pred = knn_index(X_train, y_train, X_test, i, _q)\n",
    "        y_pred1 = knn_distance(X_train, y_train, X_test, i, _q)\n",
    "\n",
    "        print(f'Точность алгоритма в зависимости от индекса    при k = {i} и q = {_q}: {accuracy(y_pred, y_test):.3f}')\n",
    "        print(f'Точность алгоритма в зависимости от расстояния при k = {i} и q = {_q}: {accuracy(y_pred1, y_test):.3f}')\n"
   ]
  },
  {
   "cell_type": "markdown",
   "metadata": {},
   "source": [
    "## В моем случае получается:\n",
    "Точность в зависимости от расстояния максимальна при:\n",
    "\n",
    "k = 6 и q = 0.5555555555555556: 0.900\n",
    "\n",
    "k = 5 и q = 0.8888888888888888: 0.900\n",
    "\n",
    "k = 5 и q = 1.0: 0.900\n",
    "\n",
    "Точность в зависимости от индекса максимальна при:\n",
    "\n",
    "k = 5 и q = 1.0: 0.900\n"
   ]
  },
  {
   "cell_type": "markdown",
   "metadata": {},
   "source": [
    "## 4. Написать функцию подсчета метрики качества кластеризации как среднее квадратичное внутриклассовое расстояние и построить график ее зависимости от количества кластеров k (взять от 1 до 10) для выборки данных из данного урока (создать датасет, как в методичке)."
   ]
  },
  {
   "cell_type": "code",
   "execution_count": 396,
   "metadata": {},
   "outputs": [],
   "source": [
    "from sklearn.datasets import make_blobs\n",
    "import random\n",
    "\n",
    "X, y = make_blobs(n_samples=100, random_state=1)"
   ]
  },
  {
   "cell_type": "code",
   "execution_count": 398,
   "metadata": {},
   "outputs": [
    {
     "data": {
      "text/plain": [
       "<matplotlib.collections.PathCollection at 0x1780421a8d0>"
      ]
     },
     "execution_count": 398,
     "metadata": {},
     "output_type": "execute_result"
    },
    {
     "data": {
      "image/png": "[encoded data removed]",
      "text/plain": [
       "<Figure size 504x504 with 1 Axes>"
      ]
     },
     "metadata": {
      "needs_background": "light"
     },
     "output_type": "display_data"
    }
   ],
   "source": [
    "plt.figure(figsize=(7,7))\n",
    "plt.scatter(X[:, 0], X[:, 1])"
   ]
  },
  {
   "cell_type": "code",
   "execution_count": 399,
   "metadata": {},
   "outputs": [],
   "source": [
    "def kmeans(data, k, max_iterations, min_distance):\n",
    "    # Создадим словарь для классификации\n",
    "    classes = {i: [] for i in range(k)}\n",
    "    \n",
    "    # инициализируем центроиды как первые k элементов датасета\n",
    "    centroids = [data[i] for i in range(k)]\n",
    "    \n",
    "    for _ in range(max_iterations):\n",
    "        # классифицируем объекты по центроидам\n",
    "        for x in data:\n",
    "            # определим расстояния от объекта до каждого центроида\n",
    "            distances = [e_metrics(x, centroid) for centroid in centroids]\n",
    "            # отнесем объект к кластеру, до центроида которого наименьшее расстояние\n",
    "            classification = distances.index(min(distances))\n",
    "            classes[classification].append(x)\n",
    "        \n",
    "        # сохраним предыдущие центроиды в отдельный список для последующего сравнения сновыми\n",
    "        old_centroids = centroids.copy()\n",
    "        \n",
    "        # пересчитаем центроиды как среднее по кластерам\n",
    "        for classification in classes:\n",
    "            centroids[classification] = np.average(classes[classification], axis=0)\n",
    "            \n",
    "        # сравним величину смещения центроидов с минимальной\n",
    "        optimal = True\n",
    "        for centroid in range(len(centroids)):\n",
    "            if np.sum(abs((centroids[centroid] - old_centroids[centroid]) / old_centroids * 100)) > min_distance:\n",
    "                optimal = False\n",
    "                \n",
    "        # если все смещения меньше минимального, останавливаем алгоритм  \n",
    "        if optimal:\n",
    "            break\n",
    "    \n",
    "    return old_centroids, classes"
   ]
  },
  {
   "cell_type": "code",
   "execution_count": 437,
   "metadata": {},
   "outputs": [],
   "source": [
    "def e_metrics(x1, x2):\n",
    "    \n",
    "    distance = 0\n",
    "    for i in range(len(x1)):\n",
    "        distance += np.square(x1[i] - x2[i])\n",
    "    \n",
    "    return np.sqrt(distance)"
   ]
  },
  {
   "cell_type": "code",
   "execution_count": 479,
   "metadata": {},
   "outputs": [],
   "source": [
    "def msc(old_centroids, classes):\n",
    "    list1 = []\n",
    "    for i in range(len(old_centroids)):\n",
    "        for element in classes[i]:\n",
    "            list1.append(e_metrics(old_centroids[i], element))\n",
    "    return np.mean(list1)\n",
    "    "
   ]
  },
  {
   "cell_type": "code",
   "execution_count": 480,
   "metadata": {},
   "outputs": [
    {
     "data": {
      "text/plain": [
       "1.2793062345078632"
      ]
     },
     "execution_count": 480,
     "metadata": {},
     "output_type": "execute_result"
    }
   ],
   "source": [
    "centroids, classes = kmeans(X,3, max_iterations, min_distance)\n",
    "meann = msc(centroids, classes)\n",
    "meann"
   ]
  },
  {
   "cell_type": "code",
   "execution_count": 485,
   "metadata": {},
   "outputs": [],
   "source": [
    "k = [i for i in range(1,11)]\n",
    "def claster_qualety(data, k, max_iterations, min_distance):\n",
    "    list_of_e_metrics = []\n",
    "    for _k in k:\n",
    "        centroids, classes = kmeans(X, _k, max_iterations, min_distance)\n",
    "        mean = msc(centroids, classes)\n",
    "        list_of_e_metrics.append(mean)\n",
    "    return k, list_of_e_metrics\n",
    "k, list_of_e_metrics = claster_qualety(X, k, max_iterations, min_distance)"
   ]
  },
  {
   "cell_type": "code",
   "execution_count": 486,
   "metadata": {
    "colab": {},
    "colab_type": "code",
    "id": "Hsy8q0FOuf_Q"
   },
   "outputs": [
    {
     "data": {
      "image/png": "[encoded data removed]",
      "text/plain": [
       "<Figure size 720x432 with 1 Axes>"
      ]
     },
     "metadata": {
      "needs_background": "light"
     },
     "output_type": "display_data"
    }
   ],
   "source": [
    "plt.figure(figsize=(10, 6))\n",
    "plt.plot(k, list_of_e_metrics)\n",
    "plt.xlabel('Количество кластеров')\n",
    "plt.ylabel('Среднее квадратичное расстояние')\n",
    "plt.grid()\n",
    "plt.show()"
   ]
  }
 ],
 "metadata": {
  "colab": {
   "collapsed_sections": [],
   "name": "Lesson_7(edited).ipynb",
   "provenance": []
  },
  "kernelspec": {
   "display_name": "Python 3",
   "language": "python",
   "name": "python3"
  },
  "language_info": {
   "codemirror_mode": {
    "name": "ipython",
    "version": 3
   },
   "file_extension": ".py",
   "mimetype": "text/x-python",
   "name": "python",
   "nbconvert_exporter": "python",
   "pygments_lexer": "ipython3",
   "version": "3.7.3"
  }
 },
 "nbformat": 4,
 "nbformat_minor": 1
}
