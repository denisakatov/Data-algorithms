{
  "nbformat": 4,
  "nbformat_minor": 0,
  "metadata": {
    "colab": {
      "name": "algoritm_hm_3.ipynb",
      "provenance": []
    },
    "kernelspec": {
      "name": "python3",
      "display_name": "Python 3"
    }
  },
  "cells": [
    {
      "cell_type": "code",
      "metadata": {
        "id": "cFSHSag2-F--",
        "colab_type": "code",
        "colab": {}
      },
      "source": [
        "import numpy as np\n",
        "import matplotlib.pyplot as plt\n",
        "from sklearn.metrics import accuracy_score, precision_score, recall_score"
      ],
      "execution_count": 221,
      "outputs": []
    },
    {
      "cell_type": "markdown",
      "metadata": {
        "id": "ZFySHchL_buR",
        "colab_type": "text"
      },
      "source": [
        "1. **Измените функцию calc_logloss так, чтобы нули по возможности не попадали в np.log.**"
      ]
    },
    {
      "cell_type": "code",
      "metadata": {
        "id": "yOy9uwzV_Ik1",
        "colab_type": "code",
        "colab": {}
      },
      "source": [
        "y = np.random.uniform(0,1,10)\n",
        "y[1] = 0\n",
        "y[5] = 1\n",
        "# Создадим фунцию, которая будет вычитать 1e-10 если элемент = 1, и заменять элемент равный нулю на 1e-10.\n",
        "def del_zerro(x):\n",
        "    y_pred =[]\n",
        "    for i in x:\n",
        "        if i == 0:\n",
        "            i = 1e-10\n",
        "        elif i == 1:\n",
        "            i = 1-1e-10\n",
        "        y_pred.append(i)\n",
        "    return y_pred\n",
        "\n",
        "# Добавим функцию del_zerro в функцию calc_logloss\n",
        "\n",
        "def calc_logloss(y, y_pre_pred):\n",
        "    y_pred = np.array([del_zerro(y_pre_pred)])\n",
        "    return -np.mean(y * np.log(y_pred) + (1.0 - y) * np.log(1.0 - y_pred))\n"
      ],
      "execution_count": 222,
      "outputs": []
    },
    {
      "cell_type": "code",
      "metadata": {
        "id": "zintr8bP_P4z",
        "colab_type": "code",
        "colab": {
          "base_uri": "https://localhost:8080/",
          "height": 187
        },
        "outputId": "e6c74bb8-e6bf-485f-cc0c-f1685cc0f1f7"
      },
      "source": [
        "# Пример применения del_zerro\n",
        "\n",
        "del_zerro(y)\n"
      ],
      "execution_count": 223,
      "outputs": [
        {
          "output_type": "execute_result",
          "data": {
            "text/plain": [
              "[0.15601864044243652,\n",
              " 1e-10,\n",
              " 0.05808361216819946,\n",
              " 0.8661761457749352,\n",
              " 0.6011150117432088,\n",
              " 0.9999999999,\n",
              " 0.020584494295802447,\n",
              " 0.9699098521619943,\n",
              " 0.8324426408004217,\n",
              " 0.21233911067827616]"
            ]
          },
          "metadata": {
            "tags": []
          },
          "execution_count": 223
        }
      ]
    },
    {
      "cell_type": "code",
      "metadata": {
        "id": "oDwSLpFVCplz",
        "colab_type": "code",
        "colab": {
          "base_uri": "https://localhost:8080/",
          "height": 34
        },
        "outputId": "588cfa92-a70e-48f3-8ac0-aeb0a605ce6e"
      },
      "source": [
        "# Пример применения calc_logloss (для теста возмем только y!!!)\n",
        "\n",
        "calc_logloss(y, y)"
      ],
      "execution_count": 224,
      "outputs": [
        {
          "output_type": "execute_result",
          "data": {
            "text/plain": [
              "0.292521055670033"
            ]
          },
          "metadata": {
            "tags": []
          },
          "execution_count": 224
        }
      ]
    },
    {
      "cell_type": "markdown",
      "metadata": {
        "id": "s4c1WB5EkNkm",
        "colab_type": "text"
      },
      "source": [
        "**Ответ:** Ошибок не возникает"
      ]
    },
    {
      "cell_type": "markdown",
      "metadata": {
        "id": "smXO2jbUQyNC",
        "colab_type": "text"
      },
      "source": [
        "**2. Подберите аргументы функции eval_model для логистической регрессии таким образом, чтобы log loss был минимальным.**\n"
      ]
    },
    {
      "cell_type": "code",
      "metadata": {
        "id": "P846HN8XRfyb",
        "colab_type": "code",
        "colab": {}
      },
      "source": [
        "def sigmoid(z):\n",
        "    res = 1 / (1 + np.exp(-z))\n",
        "    return res"
      ],
      "execution_count": 225,
      "outputs": []
    },
    {
      "cell_type": "code",
      "metadata": {
        "id": "iF5mviG2Q2m3",
        "colab_type": "code",
        "colab": {}
      },
      "source": [
        "def eval_model(X, y, iterations, alpha=1e-3):\n",
        "    i_eval=[]\n",
        "    err_eval = []\n",
        "    np.random.seed(42)\n",
        "    W = np.random.randn(X.shape[0])\n",
        "    n = X.shape[1]\n",
        "    for i in range(1, iterations+1):\n",
        "        z = np.dot(W, X)\n",
        "        y_pred = sigmoid(z)\n",
        "        err = calc_logloss(y, y_pred)\n",
        "        W -= alpha * (1/n * np.dot((y_pred - y), X.T))\n",
        "        if i % (iterations / 100) == 0:\n",
        "            i_eval.append(i)\n",
        "            err_eval.append(err)\n",
        "  \n",
        "    plt.axis(ymax=50, xmax=400)\n",
        "    plt.grid(True)\n",
        "    plt.suptitle('sgd_model')\n",
        "    plt.axis(ymax = 2, xmax = 300)\n",
        "\n",
        "    return plt.scatter(i_eval, err_eval, label=alpha)"
      ],
      "execution_count": 226,
      "outputs": []
    },
    {
      "cell_type": "code",
      "metadata": {
        "id": "jLbM-YSyROwx",
        "colab_type": "code",
        "colab": {}
      },
      "source": [
        "def calc_std_feat(x):\n",
        "    res = (x - x.mean()) / x.std()\n",
        "    return res\n"
      ],
      "execution_count": 227,
      "outputs": []
    },
    {
      "cell_type": "code",
      "metadata": {
        "id": "9UKgELiASHWt",
        "colab_type": "code",
        "colab": {}
      },
      "source": [
        "X_st = X.copy()\n",
        "X_st[2, :] = calc_std_feat(X[2, :])\n"
      ],
      "execution_count": 228,
      "outputs": []
    },
    {
      "cell_type": "code",
      "metadata": {
        "id": "rSXYl4lSo_HB",
        "colab_type": "code",
        "colab": {
          "base_uri": "https://localhost:8080/",
          "height": 680
        },
        "outputId": "430eddb5-f6b4-41c0-913f-f3080dc717fc"
      },
      "source": [
        "# В цикле посмотри при каких альфа log loss будет минимальным.\n",
        "plt.figure(figsize=(10,10))\n",
        "alpha = 1e-5\n",
        "while alpha < 100:\n",
        "  eval_model(X_st, y, iterations=1000, alpha=alpha)\n",
        "  alpha *= 10\n",
        "\n",
        "plt.legend()"
      ],
      "execution_count": 229,
      "outputs": [
        {
          "output_type": "execute_result",
          "data": {
            "text/plain": [
              "<matplotlib.legend.Legend at 0x7fd4d92aad68>"
            ]
          },
          "metadata": {
            "tags": []
          },
          "execution_count": 229
        },
        {
          "output_type": "display_data",
          "data": {
            "image/png": "[encoded data removed]",
            "text/plain": [
              "<Figure size 720x720 with 1 Axes>"
            ]
          },
          "metadata": {
            "tags": [],
            "needs_background": "light"
          }
        }
      ]
    },
    {
      "cell_type": "markdown",
      "metadata": {
        "id": "-8CHXIhhmUBT",
        "colab_type": "text"
      },
      "source": [
        "**Ответ:** При alpha = 0.01 функция показывает оптимальный результат\n"
      ]
    },
    {
      "cell_type": "markdown",
      "metadata": {
        "id": "mldkDK7nYa2r",
        "colab_type": "text"
      },
      "source": [
        "**3. Создайте функцию calc_pred_proba, возвращающую предсказанную вероятность класса 1 (на вход подаются W, который уже посчитан функцией eval_model и X, на выходе - массив y_pred_proba).**"
      ]
    },
    {
      "cell_type": "code",
      "metadata": {
        "id": "33VJof_bmCn6",
        "colab_type": "code",
        "colab": {}
      },
      "source": [
        "X = np.array([[1, 1, 1, 1, 1, 1, 1, 1, 1, 1],\n",
        "              [1, 1, 2, 1, 3, 0, 5, 10, 1, 2],\n",
        "              [500, 700, 750, 600, 1450, 800, 1500, 2000, 450, 1000],\n",
        "              [1, 1, 2, 1, 2, 1, 3, 3, 1, 2]], dtype = np.float64)\n",
        "\n",
        "y = np.array([0, 0, 1, 0, 1, 0, 1, 0, 1, 1], dtype = np.float64)"
      ],
      "execution_count": 230,
      "outputs": []
    },
    {
      "cell_type": "code",
      "metadata": {
        "id": "s8WpO0VzkaFp",
        "colab_type": "code",
        "colab": {}
      },
      "source": [
        "def eval_model(X, y, iterations, alpha=1e-4):\n",
        "    np.random.seed(42)\n",
        "    W = np.random.randn(X.shape[0])\n",
        "    n = X.shape[1]\n",
        "    for i in range(1, iterations+1):\n",
        "        z = np.dot(W, X)\n",
        "        y_pred = sigmoid(z)\n",
        "        err = calc_logloss(y, y_pred)\n",
        "        W -= alpha * (1/n * np.dot((y_pred - y), X.T))\n",
        "    # if i % (iterations / 10) == 0:\n",
        "    #     print(i, W, err)\n",
        "    return W\n",
        "W = eval_model(X_st, y, iterations=100000, alpha=1e-2)"
      ],
      "execution_count": 197,
      "outputs": []
    },
    {
      "cell_type": "code",
      "metadata": {
        "id": "V9YvfPulmW-A",
        "colab_type": "code",
        "colab": {}
      },
      "source": [
        "def calc_std_feat(x):\n",
        "    res = (x - x.mean()) / x.std()\n",
        "    return res"
      ],
      "execution_count": 231,
      "outputs": []
    },
    {
      "cell_type": "code",
      "metadata": {
        "id": "6LQNk7DGmcJI",
        "colab_type": "code",
        "colab": {
          "base_uri": "https://localhost:8080/",
          "height": 153
        },
        "outputId": "f9e94af9-9384-4a86-a357-57d1a6b9b6d9"
      },
      "source": [
        "X_st = X.copy()\n",
        "X_st[2, :] = calc_std_feat(X[2, :])\n",
        "X_st"
      ],
      "execution_count": 232,
      "outputs": [
        {
          "output_type": "execute_result",
          "data": {
            "text/plain": [
              "array([[ 1.        ,  1.        ,  1.        ,  1.        ,  1.        ,\n",
              "         1.        ,  1.        ,  1.        ,  1.        ,  1.        ],\n",
              "       [ 1.        ,  1.        ,  2.        ,  1.        ,  3.        ,\n",
              "         0.        ,  5.        , 10.        ,  1.        ,  2.        ],\n",
              "       [-0.97958969, -0.56713087, -0.46401617, -0.77336028,  0.97958969,\n",
              "        -0.36090146,  1.08270439,  2.11385144, -1.08270439,  0.05155735],\n",
              "       [ 1.        ,  1.        ,  2.        ,  1.        ,  2.        ,\n",
              "         1.        ,  3.        ,  3.        ,  1.        ,  2.        ]])"
            ]
          },
          "metadata": {
            "tags": []
          },
          "execution_count": 232
        }
      ]
    },
    {
      "cell_type": "code",
      "metadata": {
        "id": "8jLZ9VTNmoPP",
        "colab_type": "code",
        "colab": {}
      },
      "source": [
        ""
      ],
      "execution_count": 232,
      "outputs": []
    },
    {
      "cell_type": "code",
      "metadata": {
        "id": "UnY5XV6oYaoN",
        "colab_type": "code",
        "colab": {}
      },
      "source": [
        "def calc_pred_proba(W, X):\n",
        "    y_pred_proba = sigmoid(np.dot(W,X))\n",
        "    return y_pred_proba"
      ],
      "execution_count": 233,
      "outputs": []
    },
    {
      "cell_type": "code",
      "metadata": {
        "id": "VxPw5y2GyD64",
        "colab_type": "code",
        "colab": {
          "base_uri": "https://localhost:8080/",
          "height": 51
        },
        "outputId": "52804ca2-339e-433a-c6b5-1e8454972b14"
      },
      "source": [
        "calc_pred_proba(W, X_st) "
      ],
      "execution_count": 234,
      "outputs": [
        {
          "output_type": "execute_result",
          "data": {
            "text/plain": [
              "array([0.28964718, 0.13239018, 0.99730794, 0.19964039, 0.73521642,\n",
              "       0.28535565, 0.99936586, 0.08615267, 0.34267961, 0.99086206])"
            ]
          },
          "metadata": {
            "tags": []
          },
          "execution_count": 234
        }
      ]
    },
    {
      "cell_type": "markdown",
      "metadata": {
        "id": "W7WAcilMOuQe",
        "colab_type": "text"
      },
      "source": [
        "**4. Создайте функцию calc_pred, возвращающую предсказанный класс (на вход подаются W, который уже посчитан функцией eval_model и X, на выходе - массив y_pred).**"
      ]
    },
    {
      "cell_type": "code",
      "metadata": {
        "id": "ikkM5dQIO6RR",
        "colab_type": "code",
        "colab": {}
      },
      "source": [
        "def calc_pred(W, X):\n",
        "    y_pred = calc_pred_proba(W, X_st)\n",
        "    for i in range(y_pred.shape[0]):\n",
        "        if y_pred[i] >= 0.5:\n",
        "            y_pred[i] = 1\n",
        "        else:\n",
        "            y_pred[i] = 0\n",
        "    \n",
        "    return y_pred"
      ],
      "execution_count": 235,
      "outputs": []
    },
    {
      "cell_type": "code",
      "metadata": {
        "id": "dwEstA3Ne-Zf",
        "colab_type": "code",
        "colab": {
          "base_uri": "https://localhost:8080/",
          "height": 34
        },
        "outputId": "c9ccf5a5-a689-422a-b6b2-da11a59936b5"
      },
      "source": [
        "y_pred = calc_pred(W, X)\n",
        "y_pred"
      ],
      "execution_count": 236,
      "outputs": [
        {
          "output_type": "execute_result",
          "data": {
            "text/plain": [
              "array([0., 0., 1., 0., 1., 0., 1., 0., 0., 1.])"
            ]
          },
          "metadata": {
            "tags": []
          },
          "execution_count": 236
        }
      ]
    },
    {
      "cell_type": "code",
      "metadata": {
        "id": "X2lgRNA7zTIH",
        "colab_type": "code",
        "colab": {
          "base_uri": "https://localhost:8080/",
          "height": 34
        },
        "outputId": "b230af65-ec0c-46de-a63a-446cccc4392a"
      },
      "source": [
        "train_accuracy = 100.0 - np.mean(np.abs(y_pred - y)*100.0)\n",
        "train_accuracy"
      ],
      "execution_count": 237,
      "outputs": [
        {
          "output_type": "execute_result",
          "data": {
            "text/plain": [
              "90.0"
            ]
          },
          "metadata": {
            "tags": []
          },
          "execution_count": 237
        }
      ]
    },
    {
      "cell_type": "markdown",
      "metadata": {
        "id": "06owcBV1Yz7U",
        "colab_type": "text"
      },
      "source": [
        "5. **Посчитайте Accuracy, матрицу ошибок, точность и полноту, а также F1 score.**"
      ]
    },
    {
      "cell_type": "code",
      "metadata": {
        "id": "mwV6oUAcaGBb",
        "colab_type": "code",
        "colab": {
          "base_uri": "https://localhost:8080/",
          "height": 34
        },
        "outputId": "6b48cd8d-14c1-4cf0-a39a-a049270f4c81"
      },
      "source": [
        "mae = y_pred-y\n",
        "mae"
      ],
      "execution_count": 238,
      "outputs": [
        {
          "output_type": "execute_result",
          "data": {
            "text/plain": [
              "array([ 0.,  0.,  0.,  0.,  0.,  0.,  0.,  0., -1.,  0.])"
            ]
          },
          "metadata": {
            "tags": []
          },
          "execution_count": 238
        }
      ]
    },
    {
      "cell_type": "code",
      "metadata": {
        "id": "oehuTeilaT5Y",
        "colab_type": "code",
        "colab": {
          "base_uri": "https://localhost:8080/",
          "height": 34
        },
        "outputId": "700e7b04-ed03-421e-d4a4-f5e6a8df6517"
      },
      "source": [
        "# В условном mae мы можем получить отрицательное число (-1) в том случае, если мы предсказали False (0), а на самом деле True (1) => FN = -1. \n",
        "# Если мы предсказали True (1), а на самом деле False (0), то условный mae = 1 => FP. В остальных случаях mae будет = 0 и такой подход не подойдет.\n",
        "FN = 0\n",
        "FP = 0\n",
        "for i in mae:\n",
        "  if i == -1:\n",
        "    FN += 1\n",
        "  elif i == 1:\n",
        "    FP += 1\n",
        "\n",
        "FN, FP\n",
        "\n"
      ],
      "execution_count": 239,
      "outputs": [
        {
          "output_type": "execute_result",
          "data": {
            "text/plain": [
              "(1, 0)"
            ]
          },
          "metadata": {
            "tags": []
          },
          "execution_count": 239
        }
      ]
    },
    {
      "cell_type": "code",
      "metadata": {
        "id": "8z_KMO-NeIh4",
        "colab_type": "code",
        "colab": {
          "base_uri": "https://localhost:8080/",
          "height": 34
        },
        "outputId": "16528ad2-4f68-4028-d3d0-38db7426863d"
      },
      "source": [
        "# Можно пройти в цикле и посмотреть совпадают ли значние\n",
        "TP = 0\n",
        "TN = 0\n",
        "for i in range(len(y)):\n",
        "  if y_pred[i] == y[i] and y[i]==0:\n",
        "    TN += 1\n",
        "  if y_pred[i] == y[i] and y[i]==1:\n",
        "    TP +=1\n",
        "TP, TN\n",
        "\n",
        "# Можно еще рассмотреть вариант умножения значений: если при умножения значений получим 1, то TP, если получится значение 0, при равенстве предсказанного значения и реального, то TN\n"
      ],
      "execution_count": 240,
      "outputs": [
        {
          "output_type": "execute_result",
          "data": {
            "text/plain": [
              "(4, 5)"
            ]
          },
          "metadata": {
            "tags": []
          },
          "execution_count": 240
        }
      ]
    },
    {
      "cell_type": "code",
      "metadata": {
        "id": "ThUvK24GbbX6",
        "colab_type": "code",
        "colab": {
          "base_uri": "https://localhost:8080/",
          "height": 34
        },
        "outputId": "e4e3de31-bca5-4cc7-9ede-9bb358e399ad"
      },
      "source": [
        "matrix = [[TP, FP], [FN, TN]]\n",
        "matrix"
      ],
      "execution_count": 241,
      "outputs": [
        {
          "output_type": "execute_result",
          "data": {
            "text/plain": [
              "[[4, 0], [1, 5]]"
            ]
          },
          "metadata": {
            "tags": []
          },
          "execution_count": 241
        }
      ]
    },
    {
      "cell_type": "code",
      "metadata": {
        "id": "WrGcWbWYfdP9",
        "colab_type": "code",
        "colab": {
          "base_uri": "https://localhost:8080/",
          "height": 34
        },
        "outputId": "e0adcc06-e779-4218-8816-6bb964264b90"
      },
      "source": [
        "accuracy = (TP+TN)/len(y)\n",
        "accuracy"
      ],
      "execution_count": 242,
      "outputs": [
        {
          "output_type": "execute_result",
          "data": {
            "text/plain": [
              "0.9"
            ]
          },
          "metadata": {
            "tags": []
          },
          "execution_count": 242
        }
      ]
    },
    {
      "cell_type": "code",
      "metadata": {
        "id": "H1w_A4BtgNnN",
        "colab_type": "code",
        "colab": {
          "base_uri": "https://localhost:8080/",
          "height": 34
        },
        "outputId": "6b5ecdc6-491b-493e-dd05-0b0e71a59e2c"
      },
      "source": [
        "precision = TP/(TP+FP)\n",
        "precision"
      ],
      "execution_count": 243,
      "outputs": [
        {
          "output_type": "execute_result",
          "data": {
            "text/plain": [
              "1.0"
            ]
          },
          "metadata": {
            "tags": []
          },
          "execution_count": 243
        }
      ]
    },
    {
      "cell_type": "code",
      "metadata": {
        "id": "Mk81qKNagcz-",
        "colab_type": "code",
        "colab": {
          "base_uri": "https://localhost:8080/",
          "height": 34
        },
        "outputId": "b0982bc3-f9f1-427e-872c-9a10c5ef5647"
      },
      "source": [
        "recall = TP/(TP+FN)\n",
        "recall"
      ],
      "execution_count": 244,
      "outputs": [
        {
          "output_type": "execute_result",
          "data": {
            "text/plain": [
              "0.8"
            ]
          },
          "metadata": {
            "tags": []
          },
          "execution_count": 244
        }
      ]
    },
    {
      "cell_type": "code",
      "metadata": {
        "id": "uh2e4Woug_At",
        "colab_type": "code",
        "colab": {
          "base_uri": "https://localhost:8080/",
          "height": 34
        },
        "outputId": "721fa28d-8dca-496b-e02a-44943a515ed5"
      },
      "source": [
        "F_score = 2*precision*recall/(recall+precision)\n",
        "F_score\n"
      ],
      "execution_count": 245,
      "outputs": [
        {
          "output_type": "execute_result",
          "data": {
            "text/plain": [
              "0.888888888888889"
            ]
          },
          "metadata": {
            "tags": []
          },
          "execution_count": 245
        }
      ]
    },
    {
      "cell_type": "code",
      "metadata": {
        "id": "K8PtZwtKgnUM",
        "colab_type": "code",
        "colab": {}
      },
      "source": [
        "from sklearn.metrics import roc_curve\n",
        "from sklearn.metrics import roc_auc_score"
      ],
      "execution_count": 246,
      "outputs": []
    },
    {
      "cell_type": "code",
      "metadata": {
        "id": "OrHdZ-Pig1tE",
        "colab_type": "code",
        "colab": {
          "base_uri": "https://localhost:8080/",
          "height": 286
        },
        "outputId": "6b5fb847-1e01-44ad-d8fc-78e0392937a7"
      },
      "source": [
        "fpr, tpr, _ = roc_curve(y, y_pred)\n",
        "plt.plot([0, 1], [0, 1], label=\"Random\", linestyle=\"--\", alpha=0.25)\n",
        "plt.plot(fpr, tpr, color=\"green\")\n",
        "plt.scatter(fpr, tpr, color=\"green\")\n",
        "plt.xlim(0,1)\n",
        "plt.ylim(0,1)"
      ],
      "execution_count": 247,
      "outputs": [
        {
          "output_type": "execute_result",
          "data": {
            "text/plain": [
              "(0.0, 1.0)"
            ]
          },
          "metadata": {
            "tags": []
          },
          "execution_count": 247
        },
        {
          "output_type": "display_data",
          "data": {
            "image/png": "[encoded data removed]",
            "text/plain": [
              "<Figure size 432x288 with 1 Axes>"
            ]
          },
          "metadata": {
            "tags": [],
            "needs_background": "light"
          }
        }
      ]
    },
    {
      "cell_type": "markdown",
      "metadata": {
        "id": "Hu8l6bw4388F",
        "colab_type": "text"
      },
      "source": [
        "6. **Могла ли модель переобучиться? Почему?**\n",
        "\n"
      ]
    },
    {
      "cell_type": "markdown",
      "metadata": {
        "id": "Mfeo_8gj6ad_",
        "colab_type": "text"
      },
      "source": [
        "С одной стороны лишком хороший результат на небольшом количестве данных. С другой стороны при анализе данных нет видимой пропорциональной закономерности между одним из признаков и предсказанным результатом. Учитывая небольшую выборку объектов и признаков, сильно доверять данному результату, думаю, не стоит."
      ]
    }
  ]
}